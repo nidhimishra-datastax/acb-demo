{
  "cells": [
    {
      "cell_type": "code",
      "execution_count": 4,
      "metadata": {
        "colab": {
          "base_uri": "https://localhost:8080/"
        },
        "id": "uL4uuzo-dSM7",
        "outputId": "be01da3c-c6d2-4e0e-c391-d1bc67f5708f"
      },
      "outputs": [],
      "source": [
        "! pip install -q ragstack-ai pypdf playwright apify-client"
      ]
    },
    {
      "cell_type": "markdown",
      "metadata": {
        "id": "7Zb3K9XG3f8I"
      },
      "source": [
        "Configure the Environment Variables"
      ]
    },
    {
      "cell_type": "code",
      "execution_count": 1,
      "metadata": {
        "colab": {
          "base_uri": "https://localhost:8080/"
        },
        "id": "cGV7fqBjdV6T",
        "outputId": "27e99cad-4d1b-4678-9bfa-91f6995be14c"
      },
      "outputs": [],
      "source": [
        "import os\n",
        "from getpass import getpass\n",
        "\n",
        "# Enter your settings for Astra DB and OpenAI:\n",
        "os.environ[\"ASTRA_DB_API_ENDPOINT\"] = input(\"Enter your Astra DB API Endpoint: \")\n",
        "os.environ[\"ASTRA_DB_APPLICATION_TOKEN\"] = getpass(\"Enter your Astra DB Token: \")\n",
        "os.environ[\"OPENAI_API_KEY\"] = getpass(\"Enter your OpenAI API Key: \")"
      ]
    },
    {
      "cell_type": "code",
      "execution_count": 7,
      "metadata": {
        "colab": {
          "base_uri": "https://localhost:8080/"
        },
        "id": "OOpVb-LcdYak",
        "outputId": "5dcd0965-4dc3-4659-9d95-5b7e48a811dd"
      },
      "outputs": [
        {
          "name": "stdout",
          "output_type": "stream",
          "text": [
            "Astra vector store configured\n"
          ]
        }
      ],
      "source": [
        "from langchain_openai import OpenAIEmbeddings\n",
        "from langchain_astradb import AstraDBVectorStore\n",
        "import os\n",
        "\n",
        "# Configure your embedding model and vector store\n",
        "embedding = OpenAIEmbeddings(model=\"text-embedding-3-large\", dimensions=1024)\n",
        "vstore = AstraDBVectorStore(\n",
        "    collection_name=\"acb_chatbot_new\",\n",
        "    embedding=embedding,\n",
        "    token=os.getenv(\"ASTRA_DB_APPLICATION_TOKEN\"),\n",
        "    api_endpoint=os.getenv(\"ASTRA_DB_API_ENDPOINT\"),\n",
        ")\n",
        "print(\"Astra vector store configured\")"
      ]
    },
    {
      "cell_type": "markdown",
      "metadata": {
        "id": "lyc3iCto3o6P"
      },
      "source": [
        "Scrape webiste by calling the actor from the Python code"
      ]
    },
    {
      "cell_type": "code",
      "execution_count": null,
      "metadata": {
        "id": "tDLmgnuVkDO_"
      },
      "outputs": [],
      "source": [
        "from langchain.document_loaders import ApifyDatasetLoader\n",
        "from langchain.utilities import ApifyWrapper\n",
        "from langchain_core.document_loaders.base import Document\n",
        "\n",
        "os.environ[\"APIFY_API_TOKEN\"] = input(\"Enter your Apify Token: \")\n",
        "\n",
        "apify = ApifyWrapper()\n",
        "loader = apify.call_actor(\n",
        "   actor_id=\"apify/website-content-crawler\",\n",
        "   run_input={\"startUrls\": [{\"url\": \"https://acb.com.vn/en\"}]},\n",
        "   dataset_mapping_function=lambda item: Document(\n",
        "       page_content=item[\"text\"] or \"\", metadata={\"source\": item[\"url\"]}\n",
        "   ),\n",
        ")\n",
        "\n",
        "docs = loader.load()"
      ]
    },
    {
      "cell_type": "markdown",
      "metadata": {
        "id": "xb-Z9-0G3wEr"
      },
      "source": [
        "Load Dataset when the scraped content is already available by passing the Dataset ID"
      ]
    },
    {
      "cell_type": "code",
      "execution_count": 5,
      "metadata": {
        "colab": {
          "base_uri": "https://localhost:8080/"
        },
        "id": "qZR8UtvdZRcW",
        "outputId": "50035e0b-1f0c-4a7b-e241-803db1c09d85"
      },
      "outputs": [],
      "source": [
        "from langchain_community.document_loaders import ApifyDatasetLoader\n",
        "from langchain_core.documents import Document\n",
        "\n",
        "os.environ[\"APIFY_API_TOKEN\"] = input(\"Enter your Apify Token: \")\n",
        "\n",
        "loader = ApifyDatasetLoader(\n",
        "    dataset_id=\"OjtIQh7bWcK3cDxi3\",\n",
        "    dataset_mapping_function=lambda dataset_item: Document(\n",
        "        page_content=dataset_item[\"text\"], metadata={\"source\": dataset_item[\"url\"]}\n",
        "    ),\n",
        ")\n",
        "documents = loader.load()"
      ]
    },
    {
      "cell_type": "markdown",
      "metadata": {
        "id": "NQrpsLKN383b"
      },
      "source": [
        "Load the dataset in AstraDB"
      ]
    },
    {
      "cell_type": "code",
      "execution_count": 8,
      "metadata": {
        "colab": {
          "base_uri": "https://localhost:8080/",
          "height": 365
        },
        "id": "cJ0U444de5-o",
        "outputId": "c933a4e2-564e-42cd-ad42-e3d186affed1"
      },
      "outputs": [
        {
          "name": "stdout",
          "output_type": "stream",
          "text": [
            "\n",
            "Inserted 214 documents.\n"
          ]
        }
      ],
      "source": [
        "# Create embeddings by inserting your documents into the vector store.\n",
        "inserted_ids = vstore.add_documents(documents)\n",
        "print(f\"\\nInserted {len(inserted_ids)} documents.\")"
      ]
    },
    {
      "cell_type": "code",
      "execution_count": null,
      "metadata": {
        "colab": {
          "base_uri": "https://localhost:8080/"
        },
        "id": "erKt1W2xJFpF",
        "outputId": "fc45343a-a305-4e01-9da3-8aef494dc076"
      },
      "outputs": [
        {
          "name": "stdout",
          "output_type": "stream",
          "text": [
            "[(Document(page_content='Loans\\nHome\\n/Personal - Loans\\nFinancial stability for a trouble-free life\\nAccommodating a variety of loan purposes with competitive interest rates\\nChoose a type of loans\\nOnline loan\\nStep 1\\nFirst, you must present your I.D. card or passport to ACB’s office.\\nStep 2\\nYou make a request for online loan. Then ACB’s staff will ask for your name and I.D. card or passport.\\nStep 3\\nYou are instructed to download ACB Mobile Banking application and provided with username and sent a password to your mobile number.\\nLoan interest calculator\\nMonthly principal payment\\n0 VNĐ\\nAmount of interest paid monthly\\n0 VNĐ\\nAmount to pay first month\\n0 VNĐ\\nRegistration for consultation\\n© 2023 Asia Commercial Joint Stock Bank\\n© 2023 Asia Commercial Joint Stock Bank\\nWe use cookies to give you the best online experience, measure your visits to our site and to enable marketing activities. For details, see the ACB Cookie Notice.', metadata={'source': 'https://acb.com.vn/en/personal-borrow'}), 0.676854), (Document(page_content='Preferential package for personal payroll accounts\\nWaiving all fees\\nFree account management fee\\nFree online money transfer and withdrawal at ATMs of all banks\\nFree annual fee for domestic and international debit cards\\nFree annual fee for credit cards\\nUp to 5% cashback\\nUp to 5% cashback at all supermarkets and convenience stores and 1% cashback for other spending (except for some MCCs on the Excluded MCC list)\\nPreferential loan rates\\nPreferential loan rates up to 2% compared to the published interest rate from time to time.\\nMaximum protection at low cost\\n50% discount for first year insurance premium if client buys insurance online, and 20% discount if buying at the bank’s counter\\nOpen online account\\nOpen online account now – it’s safe, efficient and available anywhere, in just 1 minute and a few simple steps!\\n© 2023 Asia Commercial Joint Stock Bank\\n© 2023 Asia Commercial Joint Stock Bank\\nWe use cookies to give you the best online experience, measure your visits to our site and to enable marketing activities. For details, see the ACB Cookie Notice.', metadata={'source': 'https://acb.com.vn/en/personal-current-account/payroll-account-for-individual'}), 0.6554036), (Document(page_content='Benefits\\nBusinesses can access fund for production of goods for export\\nBusinesses are considered for clean discount/ loan\\nFeatures\\nLoan term\\nAccording to contract term/customer’s cash flow\\nCurrencies\\nUSD, VND\\nType of credit:\\nRevolving/Non-revolving\\nApplicability\\nApplicable to the following payment term: L/C, D/P, D/A, T/T, CAD\\nFinancing ratio\\nUp to 95% value of export contract or 98% value of export L/C\\nEligible businesses\\nBusinesses exporting own production and earning payment in foreign currencies.\\nWith demand of working capital for production of exported goods\\nBusinesses must present export contract/export L/C\\nContact\\nNearest branches/sub-branches, list here\\n247 Contact Center at phone number 1900 54 54 86 - (028) 38 247 247-1800 57 77 75\\n© 2023 Asia Commercial Joint Stock Bank\\n© 2023 Asia Commercial Joint Stock Bank\\nWe use cookies to give you the best online experience, measure your visits to our site and to enable marketing activities. For details, see the ACB Cookie Notice.', metadata={'source': 'https://acb.com.vn/en/business-trade-finance/financing-exporting-businesses'}), 0.63848984), (Document(page_content='Special offers for business owners\\nWaived fees\\nFree to choose an available account number\\nFree online transfer to all banks\\nFree withdrawal at ATM of all banks\\nFree ACB Visa Platinum debit card opening and annual fee for the first year\\nCashback\\n2% cashback at all supermarkets and convenience stores and 1% cashback on other spending (except for some MCCs on the Excluded MCC List)\\nPriorities\\nPriority service at counters of all ACB branches/sub-branches;\\nPriority service via 247 Contact Center\\nOpen an entrepreneur’s account to enjoy the benefits at ACB\\n© 2023 Asia Commercial Joint Stock Bank\\n© 2023 Asia Commercial Joint Stock Bank\\nWe use cookies to give you the best online experience, measure your visits to our site and to enable marketing activities. For details, see the ACB Cookie Notice.', metadata={'source': 'https://acb.com.vn/en/personal-current-account/entrepreneurs-account'}), 0.6376585), (Document(page_content='ACB Visa Gold\\nFor flexible installment payments.\\n0% interest installment anywhere\\nConvert lump sum payment into installment plan easily with 0% interest installment feature.\\n0% interest installment through partners\\n0% interest installment with 0 fee through 150 partners.\\n0% interest installment plan and competitive fees for cash advance\\nConversion fee at 1% cash advance amount, management fee of 0.75% per month.\\nBenefits\\nVarious offers from ACB and Visa from time to time.\\nZero interest and competitive fee: Customers can proactively choose to pay in installments on ACB ONE or through partner’s systems; also applicable to repayment of cash advance.\\nGrace period up to 45 days, buy first pay later with minimum payment at 5% of spending in the month. Annual fee: VND 400,000.\\nFeatures\\nTouch to pay with your ACB Visa card through Google Wallet: Add your ACB Visa card to your Google Wallet account on mobile phone to make contactless payments at POS or via online.\\nContactless payment: Touch or wave your card in front of the POS devices to make payments.\\n3D Secure: Online transaction authentication method with OTP for safe card payments.\\nRequirements\\nAny individual customer with Vietnamese or foreign nationality, from 18 to 67 years old, living in Vietnam and satisfying the conditions for VISA Gold credit cards under ACB’s regulations.\\nInquiry about online card opening', metadata={'source': 'https://acb.com.vn/en/personal-cards/acb-visa-gold'}), 0.6375979)]\n",
            "* [SIM=0.860298] [{'source': 'https://acb.com.vn/en/personal-borrow'}]\n",
            "* [SIM=0.822574] [{'source': 'https://acb.com.vn/en'}]\n",
            "* [SIM=0.803748] [{'source': 'https://acb.com.vn/en/personal-protect'}]\n"
          ]
        }
      ],
      "source": [
        "#for Debugging, search the DB on the query\n",
        "res=print(vstore.similarity_search_with_score(\"What are the benefits of home mortgage?\", k=5))\n",
        "for res, score in results:\n",
        "    print(f\"* [SIM={score:5f}] [{res.metadata}]\")"
      ]
    },
    {
      "cell_type": "code",
      "execution_count": null,
      "metadata": {
        "colab": {
          "base_uri": "https://localhost:8080/"
        },
        "id": "G8eUU0nWfHqb",
        "outputId": "eafe32c7-1295-49e4-c61f-716a31898072"
      },
      "outputs": [
        {
          "name": "stdout",
          "output_type": "stream",
          "text": [
            "* We use cookies to give you the best online experience, measure your visits to our site and to enable marketing activities. For details, see the ACB Cookie Notice. [{'source': 'https://acb.com.vn/en/personal-borrow/home-mortgage'}]\n"
          ]
        }
      ],
      "source": [
        "#for Debugging\n",
        "results_filtered = vstore.similarity_search(\"\",\n",
        "    k=3,\n",
        "    filter={\"source\": \"https://acb.com.vn/en/personal-borrow/home-mortgage\"},\n",
        ")\n",
        "for res in results_filtered:\n",
        "    print(f\"* {res.page_content} [{res.metadata}]\")"
      ]
    },
    {
      "cell_type": "code",
      "execution_count": null,
      "metadata": {
        "colab": {
          "base_uri": "https://localhost:8080/"
        },
        "id": "XvWV-Wd36P-s",
        "outputId": "6923687c-5fb5-44bc-a334-c6a75b855c05"
      },
      "outputs": [
        {
          "name": "stdout",
          "output_type": "stream",
          "text": [
            "[Document(page_content='Loans\\nHome\\n/Personal - Loans\\nFinancial stability for a trouble-free life\\nAccommodating a variety of loan purposes with competitive interest rates\\nChoose a type of loans\\nOnline loan\\nStep 1\\nFirst, you must present your I.D. card or passport to ACB’s office.\\nStep 2\\nYou make a request for online loan. Then ACB’s staff will ask for your name and I.D. card or passport.\\nStep 3\\nYou are instructed to download ACB Mobile Banking application and provided with username and sent a password to your mobile number.\\nLoan interest calculator\\nMonthly principal payment\\n0 VNĐ\\nAmount of interest paid monthly\\n0 VNĐ\\nAmount to pay first month\\n0 VNĐ\\nRegistration for consultation\\n© 2023 Asia Commercial Joint Stock Bank\\n© 2023 Asia Commercial Joint Stock Bank\\nWe use cookies to give you the best online experience, measure your visits to our site and to enable marketing activities. For details, see the ACB Cookie Notice.', metadata={'source': 'https://acb.com.vn/en/personal-borrow'}), Document(page_content='Benefits\\nBusinesses can access fund for production of goods for export\\nBusinesses are considered for clean discount/ loan\\nFeatures\\nLoan term\\nAccording to contract term/customer’s cash flow\\nCurrencies\\nUSD, VND\\nType of credit:\\nRevolving/Non-revolving\\nApplicability\\nApplicable to the following payment term: L/C, D/P, D/A, T/T, CAD\\nFinancing ratio\\nUp to 95% value of export contract or 98% value of export L/C\\nEligible businesses\\nBusinesses exporting own production and earning payment in foreign currencies.\\nWith demand of working capital for production of exported goods\\nBusinesses must present export contract/export L/C\\nContact\\nNearest branches/sub-branches, list here\\n247 Contact Center at phone number 1900 54 54 86 - (028) 38 247 247-1800 57 77 75\\n© 2023 Asia Commercial Joint Stock Bank\\n© 2023 Asia Commercial Joint Stock Bank\\nWe use cookies to give you the best online experience, measure your visits to our site and to enable marketing activities. For details, see the ACB Cookie Notice.', metadata={'source': 'https://acb.com.vn/en/business-trade-finance/financing-exporting-businesses'}), Document(page_content=\"Home\\n/ \\nPersonal - Insurance\\n/Additional Insurance - Support for premium payment\\nThe superior benefits of the product\\nIf the Insured Person of the product dies or suffers a total and permanent disability, Sun Life Vietnam will continue to periodically make a periodic payment to the Customer's account until the end of the insurance period of this product.\\nIf the Insured accidentally dies or suffers from PTT, Sun Life Vietnam will continue to pay periodic premiums on behalf of the Customer until the end of the insurance period of the Insured.\\nthis product. Customers will still receive protection and cumulative benefits under the Contract.\\nGeneral information\\nInsurance age: from 18 to 60 years old\\nInsurance period: not exceeding 65 years of age of the Insured\\nReference\\n0\\nPromotions\\nRegistration for consultation\\n© 2023 Asia Commercial Joint Stock Bank\\n© 2023 Asia Commercial Joint Stock Bank\\nWe use cookies to give you the best online experience, measure your visits to our site and to enable marketing activities. For details, see the ACB Cookie Notice.\", metadata={'source': 'https://acb.com.vn/en/personal-protect/additional-insurance-support-for-premium-payment'}), Document(page_content='ACB MasterCard Gold\\nFor flexible installment payments\\nOffers from ACB and MasterCard\\nEnjoy attractive offers and rewards at first-class resorts, shopping centers, tourist spots, etc. in Vietnam and around the world.\\nGrace period up to 45 days\\nBuy first pay later with grace period up to 45 days.\\nMinimum payment at 5%\\nMinimum payment at only 5% of spending amount in a month.\\nBenefits\\nVarious offers from ACB from time to time.\\nZero interest and competitive fee: Customers can proactively choose to pay in installments on ACB ONE or through partner’s systems; also applicable to repayment of cash advance.\\nGrace period up to 45 days, buy first pay later with minimum payment at 5% of spending every month. Annual fee: VND 400,000.\\nFeatures\\nContactless payment and EMV-standard chip: Touch or wave your card in front of the POS devices to make payments.\\n3D Secure: Online transaction authentication method with OTP for safe card payments.\\nRequirements\\nAny individual customer with Vietnamese or foreign nationality, from 18 to 67 years old, living in Vietnam and satisfying the conditions for MasterCard Gold credit cards under ACB’s regulations.\\nInquiry about online card opening', metadata={'source': 'https://acb.com.vn/en/personal-cards/acb-mastercard-gold-credit'}), Document(page_content='Centralized account management\\nA service that provides the feature of capital concentration or capital allocation between a main account and multiple sub-accounts, helping businesses to concentrate or allocate capital efficiently and automatically.\\nHome\\n/ \\nBusiness - Financial Services\\n/Centralized account management\\nMở tài khoản trực tuyến để trải nghiệm nhiều tiện ích dành cho Doanh nghiệp\\nSở hữu ngay tài khoản thanh toán Doanh nghiệp mà không cần đến trực tiếp tại quầy. Nhận ngay ưu đãi không phí và nhiều tiện ích giúp khách hàng tối ưu hiệu quả kinh doanh\\nBenefits\\nEffectively control multiple individual cash flows\\nYou only need to schedule one time to concentrate or allocate capital.\\nMaximize the return on capital\\nReducing procedures, management costs, and administrative costs of the business\\nFeatures\\nConcentrating capital from multiple sub-accounts into one main account or replenishing capital from the main account for sub-accounts.\\nMultiple principles of capital allocation or capital concentration can be specified and are fully automated by the system.\\nEligible customers\\nCustomers with main accounts and sub accounts at ACB.\\nTham khảo biểu phí khách hàng doanh nghiệp\\nReferences\\nCentralized account management service contract\\nContact\\nNearest ACB branch/sub-branch or make an appointment online, here\\n247 Contact Center at 1900 54 54 86 - (028) 38 247 247 - 1800 57 77 75\\nRegister for consultation', metadata={'source': 'https://acb.com.vn/en/business-finance-service/centralized-account-management'})]\n",
            "* [SIM=0.860298] [{'source': 'https://acb.com.vn/en/personal-borrow'}]\n",
            "* [SIM=0.822574] [{'source': 'https://acb.com.vn/en'}]\n",
            "* [SIM=0.803748] [{'source': 'https://acb.com.vn/en/personal-protect'}]\n"
          ]
        }
      ],
      "source": [
        "#for Debugging, search the DB on the query\n",
        "res=print(vstore.max_marginal_relevance_search(\"What are the benefits of home mortgage?\", k=5))\n",
        "for res, score in results:\n",
        "    print(f\"* [SIM={score:5f}] [{res.metadata}]\")"
      ]
    },
    {
      "cell_type": "code",
      "execution_count": null,
      "metadata": {
        "id": "AYDrN6rp71xa"
      },
      "outputs": [],
      "source": []
    }
  ],
  "metadata": {
    "colab": {
      "provenance": []
    },
    "kernelspec": {
      "display_name": "Python 3",
      "name": "python3"
    },
    "language_info": {
      "codemirror_mode": {
        "name": "ipython",
        "version": 3
      },
      "file_extension": ".py",
      "mimetype": "text/x-python",
      "name": "python",
      "nbconvert_exporter": "python",
      "pygments_lexer": "ipython3",
      "version": "3.11.9"
    }
  },
  "nbformat": 4,
  "nbformat_minor": 0
}
